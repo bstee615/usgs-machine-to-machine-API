{
 "cells": [
  {
   "cell_type": "markdown",
   "source": [
    "# Trying out libraries for webtile <-> lat/lon, and MGRS <-> lat/lon"
   ],
   "metadata": {}
  },
  {
   "cell_type": "code",
   "execution_count": 69,
   "source": [
    "# https://github.com/hobu/mgrs\n",
    "import mgrs\n",
    "\n",
    "latitude = 42.0\n",
    "longitude = -93.0\n",
    "\n",
    "mgrs = mgrs.MGRS()\n",
    "print('Latlong:', latitude, longitude)\n",
    "for i in range(5):\n",
    "    coord = mgrs.toMGRS(latitude, longitude, MGRSPrecision=i)\n",
    "    print(f'MGRS precision {i}:', coord)\n",
    "latlong = mgrs.toLatLon(coord)\n",
    "print('Back to latlong:', latlong)\n",
    "print()\n",
    "\n",
    "# https://gisgeography.com/decimal-degrees-dd-minutes-seconds-dms/\n",
    "dms_coord = '321942.29N'\n",
    "print('Days/Minutes/Seconds:', dms_coord)\n",
    "dd_coord = mgrs.dmstodd(dms_coord)\n",
    "print('Decimal degrees:', dd_coord)\n",
    "d, m, s = mgrs.ddtodms(dd_coord)\n",
    "print('Back to D/M/S:', d, m, s)"
   ],
   "outputs": [
    {
     "output_type": "stream",
     "name": "stdout",
     "text": [
      "Latlong: 42.0 -93.0\n",
      "MGRS precision 0: 15TWG\n",
      "MGRS precision 1: 15TWG04\n",
      "MGRS precision 2: 15TWG0049\n",
      "MGRS precision 3: 15TWG000497\n",
      "MGRS precision 4: 15TWG00004977\n",
      "Back to latlong: (41.9999439351213, -93.00000000000001)\n",
      "\n",
      "Days/Minutes/Seconds: 321942.29N\n",
      "Decimal degrees: 32.32841388888889\n",
      "Back to D/M/S: 32.0 19.0 42.2899999999936\n"
     ]
    }
   ],
   "metadata": {}
  },
  {
   "cell_type": "code",
   "execution_count": 70,
   "source": [
    "# Try to go from webtile -> lat/long -> MGRS\n",
    "import mercantile\n",
    "tile = mercantile.tile(21.5, 41, 9)  # A little smaller than a 100km x 100km Sentinel-2 tile\n",
    "print(tile)\n",
    "bounds = mercantile.bounds(tile)\n",
    "print(bounds)\n",
    "\n",
    "precision = 5\n",
    "nw = (bounds.north, bounds.west)\n",
    "se = (bounds.south, bounds.east)\n",
    "mgrs_nw = mgrs.toMGRS(bounds.north, bounds.west, MGRSPrecision=precision)\n",
    "print('Northwest corner:', nw, mgrs_nw)\n",
    "mgrs_se = mgrs.toMGRS(bounds.south, bounds.east, MGRSPrecision=precision)\n",
    "print('Southeast corner:', se, mgrs_se)"
   ],
   "outputs": [
    {
     "output_type": "stream",
     "name": "stdout",
     "text": [
      "Tile(x=286, y=191, z=9)\n",
      "LngLatBbox(west=21.09375, south=40.97989806962013, east=21.796875, north=41.50857729743934)\n",
      "Northwest corner: (41.50857729743934, 21.09375) 34TEL0782395220\n",
      "Southeast corner: (40.97989806962013, 21.796875) 34TEL6703936831\n"
     ]
    }
   ],
   "metadata": {}
  },
  {
   "cell_type": "markdown",
   "source": [
    "# Example code converting a web tile to MGRS tiles @10km precision"
   ],
   "metadata": {}
  },
  {
   "cell_type": "markdown",
   "source": [
    "First, get the MGRS coordinates that denote the Southwest and Northeast corner of the web tile."
   ],
   "metadata": {}
  },
  {
   "cell_type": "code",
   "execution_count": 71,
   "source": [
    "# Go from webtile -> lat/long -> MGRS\n",
    "import mercantile\n",
    "import mgrs\n",
    "\n",
    "mgrs = mgrs.MGRS()\n",
    "mgrs_precision = 1  # 10km x 10km precision\n",
    "\n",
    "\n",
    "def latlong_to_mgrs(lat, lon):\n",
    "    return mgrs.toMGRS(lat, lon, MGRSPrecision=mgrs_precision)\n",
    "\n",
    "\n",
    "def webtile_to_latlon(x, y, z):\n",
    "    tile = mercantile.tile(x, y, z)\n",
    "    bounds = mercantile.bounds(tile)\n",
    "    return bounds.south, bounds.west, bounds.north, bounds.east\n",
    "\n",
    "\n",
    "x, y, z = 21.5, 41, 9\n",
    "print('Input web tile (xyz):', x, y, z)\n",
    "lat_s, lon_w, lat_n, lon_e = webtile_to_latlon(x, y, z)\n",
    "print('Extents (SWNE):', lat_s, lon_w, lat_n, lon_e)\n",
    "sw = latlong_to_mgrs(lat_s, lon_w)\n",
    "ne = latlong_to_mgrs(lat_n, lon_e)\n",
    "print('Extents in MGRS (SW, NE):', sw, ne)"
   ],
   "outputs": [
    {
     "output_type": "stream",
     "name": "stdout",
     "text": [
      "Input web tile (xyz): 21.5 41 9\n",
      "Extents (SWNE): 40.97989806962013 21.09375 41.50857729743934 21.796875\n",
      "Extents in MGRS (SW, NE): 34TEL03 34TEL69\n"
     ]
    }
   ],
   "metadata": {}
  },
  {
   "cell_type": "markdown",
   "source": [
    "There are actually more tiles on the interior of the web tile which should be filled in."
   ],
   "metadata": {}
  },
  {
   "cell_type": "code",
   "execution_count": 72,
   "source": [
    "def collect_interiors(sw, ne):\n",
    "    \"\"\"\n",
    "    Collect tiles on the interior of the NW and SE corners.\n",
    "    Handles only the simple case where the tile is the same on the 100km square.\n",
    "    \"\"\"\n",
    "    \n",
    "    stub = sw[:-2]\n",
    "    ne_stub = ne[:-2]\n",
    "    assert stub == ne_stub, 'Tiles do not land on the same 100km square'\n",
    "\n",
    "    w = int(sw[-2])\n",
    "    s = int(sw[-1])\n",
    "    e = int(ne[-2])\n",
    "    n = int(ne[-1])\n",
    "    assert w < e, 'Cannot iterate easting'\n",
    "    assert s < n, 'Cannot iterate northing'\n",
    "\n",
    "    tiles = []\n",
    "    for easting in range(w, e):\n",
    "        for northing in range(s, n+1):\n",
    "            tile = stub + str(easting) + str(northing)\n",
    "            tiles.append(tile)\n",
    "    return tiles\n",
    "\n",
    "\n",
    "tiles = collect_interiors(sw, ne)\n",
    "print('All MGRS tiles in web tile extent:', ' '.join(tiles))"
   ],
   "outputs": [
    {
     "output_type": "stream",
     "name": "stdout",
     "text": [
      "All MGRS tiles in web tile extent: 34TEL03 34TEL04 34TEL05 34TEL06 34TEL07 34TEL08 34TEL09 34TEL13 34TEL14 34TEL15 34TEL16 34TEL17 34TEL18 34TEL19 34TEL23 34TEL24 34TEL25 34TEL26 34TEL27 34TEL28 34TEL29 34TEL33 34TEL34 34TEL35 34TEL36 34TEL37 34TEL38 34TEL39 34TEL43 34TEL44 34TEL45 34TEL46 34TEL47 34TEL48 34TEL49 34TEL53 34TEL54 34TEL55 34TEL56 34TEL57 34TEL58 34TEL59\n"
     ]
    }
   ],
   "metadata": {}
  },
  {
   "cell_type": "code",
   "execution_count": 73,
   "source": [
    "def intersects(tile, polygon):\n",
    "    \"\"\"Fake implementation! In reality this would be a spatial join (https://geopandas.org/docs/user_guide/mergingdata.html#spatial-joins).\"\"\"\n",
    "    if tile in ('34TEL08', '34TEL07', '34TEL18'):\n",
    "        return True\n",
    "    else:\n",
    "        return False\n",
    "\n",
    "\n",
    "def filter_to_polygon(tiles, polygon):\n",
    "    filtered_tiles = []\n",
    "    for tile in tiles:\n",
    "        if intersects(tile, polygon):\n",
    "            filtered_tiles.append(tile)\n",
    "    return filtered_tiles\n",
    "\n",
    "\n",
    "polygon = [(21.08782035624389,41.4095885126781), (21.06876059500927,41.34439217626883), (21.1694810845141,41.41875148857508), (21.08782035624389,41.4095885126781)]  # Triangular polygon in linear ring form\n",
    "filtered_tiles = filter_to_polygon(tiles, polygon)\n",
    "\n",
    "print('MGRS tiles filtered to the requested polygons:', ' '.join(filtered_tiles))\n",
    "print('The satellite images for these MGRS tiles would be downloaded from the server, clipped, and merged into a bitmap to return from the tile server.')"
   ],
   "outputs": [
    {
     "output_type": "stream",
     "name": "stdout",
     "text": [
      "MGRS tiles filtered to the requested polygons: 34TEL07 34TEL08 34TEL18\n",
      "The satellite images for these MGRS tiles would be downloaded from the server, clipped, and merged into a bitmap to return from the tile server.\n"
     ]
    }
   ],
   "metadata": {}
  }
 ],
 "metadata": {
  "orig_nbformat": 4,
  "language_info": {
   "name": "python",
   "version": "3.8.5",
   "mimetype": "text/x-python",
   "codemirror_mode": {
    "name": "ipython",
    "version": 3
   },
   "pygments_lexer": "ipython3",
   "nbconvert_exporter": "python",
   "file_extension": ".py"
  },
  "kernelspec": {
   "name": "python3",
   "display_name": "Python 3.8.5 64-bit ('base': conda)"
  },
  "interpreter": {
   "hash": "a535d873fe0e83797f6e6a2091476b53ca700b1c39e49c8cf317620b8a39cd7e"
  }
 },
 "nbformat": 4,
 "nbformat_minor": 2
}