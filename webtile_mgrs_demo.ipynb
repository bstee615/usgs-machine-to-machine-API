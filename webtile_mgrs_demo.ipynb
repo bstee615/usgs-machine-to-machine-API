{
  "nbformat": 4,
  "nbformat_minor": 0,
  "metadata": {
    "orig_nbformat": 4,
    "language_info": {
      "name": "python",
      "version": "3.8.5",
      "mimetype": "text/x-python",
      "codemirror_mode": {
        "name": "ipython",
        "version": 3
      },
      "pygments_lexer": "ipython3",
      "nbconvert_exporter": "python",
      "file_extension": ".py"
    },
    "kernelspec": {
      "name": "python3",
      "display_name": "Python 3.8.5 64-bit ('base': conda)"
    },
    "interpreter": {
      "hash": "a535d873fe0e83797f6e6a2091476b53ca700b1c39e49c8cf317620b8a39cd7e"
    },
    "colab": {
      "name": "webtile_mgrs.ipynb",
      "provenance": [],
      "include_colab_link": true
    }
  },
  "cells": [
    {
      "cell_type": "markdown",
      "metadata": {
        "id": "view-in-github",
        "colab_type": "text"
      },
      "source": [
        "<a href=\"https://colab.research.google.com/github/bstee615/usgs-machine-to-machine-API/blob/master/webtile_mgrs_demo.ipynb\" target=\"_parent\"><img src=\"https://colab.research.google.com/assets/colab-badge.svg\" alt=\"Open In Colab\"/></a>"
      ]
    },
    {
      "cell_type": "markdown",
      "metadata": {
        "id": "xezhyDpa4mIu"
      },
      "source": [
        "# Example code converting a web tile to MGRS tiles @10km precision"
      ]
    },
    {
      "cell_type": "markdown",
      "metadata": {
        "id": "PGRZjQI542ck"
      },
      "source": [
        "Used pip packages [mgrs](https://github.com/hobu/mgrs) to convert lat/long ↔ MGRS and [mercantile](https://mercantile.readthedocs.io/en/latest/index.html) to convert web tile ↔ lat/long.\n",
        "The math is straightforward, see docs at [OpenStreetMap wiki](https://wiki.openstreetmap.org/wiki/Slippy_map_tilenames#Lon..2Flat._to_tile_numbers_2) and [MGRS wiki](https://en.wikipedia.org/wiki/Military_Grid_Reference_System)."
      ]
    },
    {
      "cell_type": "code",
      "metadata": {
        "colab": {
          "base_uri": "https://localhost:8080/"
        },
        "id": "2tmf6Bub4pPU",
        "outputId": "cef3d3da-193f-49d0-b714-704bfafaff13"
      },
      "source": [
        "!pip install mgrs mercantile"
      ],
      "execution_count": 14,
      "outputs": [
        {
          "output_type": "stream",
          "name": "stdout",
          "text": [
            "Requirement already satisfied: mgrs in /usr/local/lib/python3.7/dist-packages (1.4.2)\n",
            "Requirement already satisfied: mercantile in /usr/local/lib/python3.7/dist-packages (1.2.1)\n",
            "Requirement already satisfied: packaging in /usr/local/lib/python3.7/dist-packages (from mgrs) (21.0)\n",
            "Requirement already satisfied: click>=3.0 in /usr/local/lib/python3.7/dist-packages (from mercantile) (7.1.2)\n",
            "Requirement already satisfied: pyparsing>=2.0.2 in /usr/local/lib/python3.7/dist-packages (from packaging->mgrs) (2.4.7)\n"
          ]
        }
      ]
    },
    {
      "cell_type": "markdown",
      "metadata": {
        "id": "KziU2IzI4mIu"
      },
      "source": [
        "First, get the MGRS coordinates that denote the Southwest and Northeast corner of the web tile."
      ]
    },
    {
      "cell_type": "code",
      "metadata": {
        "colab": {
          "base_uri": "https://localhost:8080/"
        },
        "id": "z1ROKEo24mIv",
        "outputId": "ccfdc6be-4f5d-49e0-c3d9-bb803b8675e9"
      },
      "source": [
        "# Go from webtile -> lat/long -> MGRS\n",
        "import mercantile\n",
        "import mgrs\n",
        "\n",
        "mgrs = mgrs.MGRS()\n",
        "mgrs_precision = 1  # 10km x 10km precision\n",
        "\n",
        "\n",
        "def latlong_to_mgrs(lat, lon):\n",
        "    return mgrs.toMGRS(lat, lon, MGRSPrecision=mgrs_precision)\n",
        "\n",
        "\n",
        "def webtile_to_latlon(x, y, z):\n",
        "    tile = mercantile.tile(x, y, z)\n",
        "    bounds = mercantile.bounds(tile)\n",
        "    return bounds.south, bounds.west, bounds.north, bounds.east\n",
        "\n",
        "\n",
        "x, y, z = 21.5, 41, 9\n",
        "print('Input web tile (xyz):', x, y, z)\n",
        "lat_s, lon_w, lat_n, lon_e = webtile_to_latlon(x, y, z)\n",
        "print('Extents (SWNE):', lat_s, lon_w, lat_n, lon_e)\n",
        "sw = latlong_to_mgrs(lat_s, lon_w)\n",
        "ne = latlong_to_mgrs(lat_n, lon_e)\n",
        "print('Extents in MGRS (SW, NE):', sw, ne)"
      ],
      "execution_count": 15,
      "outputs": [
        {
          "output_type": "stream",
          "name": "stdout",
          "text": [
            "Input web tile (xyz): 21.5 41 9\n",
            "Extents (SWNE): 40.97989806962013 21.09375 41.50857729743934 21.796875\n",
            "Extents in MGRS (SW, NE): 34TEL03 34TEL69\n"
          ]
        }
      ]
    },
    {
      "cell_type": "markdown",
      "metadata": {
        "id": "XyIEB_JS4mIv"
      },
      "source": [
        "There are actually more tiles on the interior of the web tile which should be filled in."
      ]
    },
    {
      "cell_type": "code",
      "metadata": {
        "colab": {
          "base_uri": "https://localhost:8080/"
        },
        "id": "Hk50iA5T4mIw",
        "outputId": "91501019-dd85-4373-f5c3-6d26f599c542"
      },
      "source": [
        "def collect_interiors(sw, ne):\n",
        "    \"\"\"\n",
        "    Collect tiles on the interior of the NW and SE corners.\n",
        "    Handles only the simple case where the tile is the same on the 100km square.\n",
        "    \"\"\"\n",
        "    \n",
        "    stub = sw[:-2]\n",
        "    ne_stub = ne[:-2]\n",
        "    assert stub == ne_stub, 'Tiles do not land on the same 100km square'\n",
        "\n",
        "    w = int(sw[-2])\n",
        "    s = int(sw[-1])\n",
        "    e = int(ne[-2])\n",
        "    n = int(ne[-1])\n",
        "    assert w < e, 'Cannot iterate easting'\n",
        "    assert s < n, 'Cannot iterate northing'\n",
        "\n",
        "    tiles = []\n",
        "    for easting in range(w, e):\n",
        "        for northing in range(s, n+1):\n",
        "            tile = stub + str(easting) + str(northing)\n",
        "            tiles.append(tile)\n",
        "    return tiles\n",
        "\n",
        "\n",
        "tiles = collect_interiors(sw, ne)\n",
        "print('All MGRS tiles in web tile extent:', ' '.join(tiles))"
      ],
      "execution_count": 16,
      "outputs": [
        {
          "output_type": "stream",
          "name": "stdout",
          "text": [
            "All MGRS tiles in web tile extent: 34TEL03 34TEL04 34TEL05 34TEL06 34TEL07 34TEL08 34TEL09 34TEL13 34TEL14 34TEL15 34TEL16 34TEL17 34TEL18 34TEL19 34TEL23 34TEL24 34TEL25 34TEL26 34TEL27 34TEL28 34TEL29 34TEL33 34TEL34 34TEL35 34TEL36 34TEL37 34TEL38 34TEL39 34TEL43 34TEL44 34TEL45 34TEL46 34TEL47 34TEL48 34TEL49 34TEL53 34TEL54 34TEL55 34TEL56 34TEL57 34TEL58 34TEL59\n"
          ]
        }
      ]
    },
    {
      "cell_type": "code",
      "metadata": {
        "colab": {
          "base_uri": "https://localhost:8080/"
        },
        "id": "-LO6CRJn4mIw",
        "outputId": "c922780a-14b9-471a-dc19-1ea7e94ff821"
      },
      "source": [
        "def intersects(tile, polygon):\n",
        "    \"\"\"Fake implementation! In reality this would be a spatial join (https://geopandas.org/docs/user_guide/mergingdata.html#spatial-joins).\"\"\"\n",
        "    if tile in ('34TEL08', '34TEL07', '34TEL18'):\n",
        "        return True\n",
        "    else:\n",
        "        return False\n",
        "\n",
        "\n",
        "def filter_to_polygon(tiles, polygon):\n",
        "    filtered_tiles = []\n",
        "    for tile in tiles:\n",
        "        if intersects(tile, polygon):\n",
        "            filtered_tiles.append(tile)\n",
        "    return filtered_tiles\n",
        "\n",
        "\n",
        "polygon = [(21.08782035624389,41.4095885126781), (21.06876059500927,41.34439217626883), (21.1694810845141,41.41875148857508), (21.08782035624389,41.4095885126781)]  # Triangular polygon in linear ring form\n",
        "filtered_tiles = filter_to_polygon(tiles, polygon)\n",
        "\n",
        "print('MGRS tiles filtered to the requested polygons:', ' '.join(filtered_tiles))\n",
        "print('The satellite images for these MGRS tiles would be downloaded from the server, clipped, and merged into a bitmap to return from the tile server.')"
      ],
      "execution_count": 17,
      "outputs": [
        {
          "output_type": "stream",
          "name": "stdout",
          "text": [
            "MGRS tiles filtered to the requested polygons: 34TEL07 34TEL08 34TEL18\n",
            "The satellite images for these MGRS tiles would be downloaded from the server, clipped, and merged into a bitmap to return from the tile server.\n"
          ]
        }
      ]
    }
  ]
}